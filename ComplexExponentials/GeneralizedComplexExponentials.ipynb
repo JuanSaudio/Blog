{
 "cells": [
  {
   "cell_type": "code",
   "execution_count": null,
   "metadata": {},
   "outputs": [],
   "source": [
    "# nbi:hide_in\n",
    "##########################\n",
    "# Created on Mar 2020\n",
    "# @author: juans\n",
    "##########################"
   ]
  },
  {
   "cell_type": "code",
   "execution_count": null,
   "metadata": {},
   "outputs": [],
   "source": [
    "# nbi:hide_in\n",
    "# Required libraries\n",
    "import numpy as np\n",
    "import matplotlib.pyplot as plt\n",
    "from mpl_toolkits.mplot3d import Axes3D\n",
    "import ipywidgets as widgets\n",
    "%matplotlib inline"
   ]
  },
  {
   "cell_type": "code",
   "execution_count": null,
   "metadata": {},
   "outputs": [],
   "source": [
    "fs = 96000\n",
    "dur = 0.01\n",
    "t = np.linspace(0, dur, int(dur * fs + 1))"
   ]
  },
  {
   "cell_type": "code",
   "execution_count": 27,
   "metadata": {},
   "outputs": [],
   "source": [
    "# nbi:hide_in\n",
    "\n",
    "# freqSlider = widgets.FloatLogSlider (\n",
    "#     value=np.log10(1e3),\n",
    "#     base=10,\n",
    "#     min=np.log10(2e1), \n",
    "#     max=np.log10(2e4),\n",
    "#     step=0.2, \n",
    "#     continuous_update=True,\n",
    "#     readout_format='d'\n",
    "# )\n",
    "\n",
    "freqSlider = widgets.FloatSlider (\n",
    "    value = 0.0,\n",
    "    min=-1000.0,\n",
    "    max=1000.0,\n",
    "    step=1.0,\n",
    "    continuous_update=True,\n",
    "    readout_format='d',\n",
    ")\n",
    "\n",
    "phaseSlider = widgets.FloatSlider (\n",
    "    value=0,\n",
    "    min=0.0,\n",
    "    max=360.0,\n",
    "    step=1.0,\n",
    "    continuous_update=True,\n",
    "    readout_format='.1f' \n",
    ")\n",
    "\n",
    "sigmaSlider = widgets.FloatSlider (\n",
    "    value=0,\n",
    "    min=-1000.0,\n",
    "    max=1000.0,\n",
    "    step=1,\n",
    "    continuous_update=True,\n",
    "    readout_format='.1f'\n",
    ")\n",
    "\n",
    "azimuthSlider = widgets.FloatSlider (\n",
    "    value=0,\n",
    "    min=0.0,\n",
    "    max=180.0,\n",
    "    step=1.0,\n",
    "    continuous_update=True,\n",
    "    readout_format='.1f' \n",
    ")\n",
    "\n",
    "elevationSlider = widgets.FloatSlider (\n",
    "    value=0,\n",
    "    min=0.0,\n",
    "    max=90.0,\n",
    "    step=1.0,\n",
    "    continuous_update=True,\n",
    "    readout_format='.1f' \n",
    ")\n"
   ]
  },
  {
   "cell_type": "code",
   "execution_count": 31,
   "metadata": {},
   "outputs": [
    {
     "data": {
      "application/vnd.jupyter.widget-view+json": {
       "model_id": "d55553ea4841410d92b209843a6f757b",
       "version_major": 2,
       "version_minor": 0
      },
      "text/plain": [
       "interactive(children=(FloatSlider(value=539.0, description='freq', max=1000.0, min=-1000.0, readout_format='d'…"
      ]
     },
     "metadata": {},
     "output_type": "display_data"
    }
   ],
   "source": [
    "# nbi:hide_in\n",
    "\n",
    "\n",
    "def plot(freq, phase, sigma, az, el):\n",
    "    expOsc = np.exp(1j * 2 * np.pi * freq * t)\n",
    "    expEnv = np.exp(t * sigma);\n",
    "    expAng = np.exp(1j * np.deg2rad(phase));\n",
    "    \n",
    "    expAll = expOsc * expEnv * expAng;\n",
    "#     fig = plt.figure(figsize=(18,8))\n",
    "    fig = plt.figure(figsize=plt.figaspect(1)*1.5)\n",
    "\n",
    "    ax = fig.add_subplot(111, projection='3d', proj_type = 'ortho')\n",
    "    ax.plot(t, np.real(expAll), np.imag(expAll));\n",
    "    ax.view_init(el, -az)\n",
    "#     ax.ylim([-max(np.abs(expAll)), max(np.abs(expAll))])\n",
    "#     ax.grid(True);\n",
    "    \n",
    "widgets.interactive(plot, freq=freqSlider, phase=phaseSlider, sigma=sigmaSlider, az=azimuthSlider, el=elevationSlider)"
   ]
  },
  {
   "cell_type": "code",
   "execution_count": null,
   "metadata": {},
   "outputs": [],
   "source": []
  }
 ],
 "metadata": {
  "kernelspec": {
   "display_name": "Python 3",
   "language": "python",
   "name": "python3"
  },
  "language_info": {
   "codemirror_mode": {
    "name": "ipython",
    "version": 3
   },
   "file_extension": ".py",
   "mimetype": "text/x-python",
   "name": "python",
   "nbconvert_exporter": "python",
   "pygments_lexer": "ipython3",
   "version": "3.7.3"
  }
 },
 "nbformat": 4,
 "nbformat_minor": 4
}
