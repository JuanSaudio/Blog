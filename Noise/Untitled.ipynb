{
 "cells": [
  {
   "cell_type": "code",
   "execution_count": 23,
   "metadata": {},
   "outputs": [],
   "source": [
    "# nbi:hide_in\n",
    "# Requried libraries\n",
    "import numpy as np\n",
    "import matplotlib.pyplot as plt\n",
    "import ipywidgets as widgets\n",
    "%matplotlib inline"
   ]
  },
  {
   "cell_type": "code",
   "execution_count": 27,
   "metadata": {},
   "outputs": [],
   "source": [
    "# nbi:hide_in\n",
    "N = 1000\n",
    "x = np.random.randint(1, 7, N)\n",
    "bins = np.arange(0, 7, 1) + 0.5"
   ]
  },
  {
   "cell_type": "code",
   "execution_count": 28,
   "metadata": {},
   "outputs": [],
   "source": [
    "# nbi:hide_in\n",
    "numSampSlider = widgets.IntSlider(\n",
    "    value=1,\n",
    "    min=1,\n",
    "    max=N,\n",
    "    step=1,\n",
    "    description='numSamples',\n",
    "    continuous_update=False,\n",
    "    readout_format='d',\n",
    ")"
   ]
  },
  {
   "cell_type": "code",
   "execution_count": 29,
   "metadata": {},
   "outputs": [
    {
     "data": {
      "application/vnd.jupyter.widget-view+json": {
       "model_id": "9c05c0230da8411e808d879ae0026082",
       "version_major": 2,
       "version_minor": 0
      },
      "text/plain": [
       "interactive(children=(IntSlider(value=1, continuous_update=False, description='numSamples', max=1000, min=1), …"
      ]
     },
     "metadata": {},
     "output_type": "display_data"
    }
   ],
   "source": [
    "# nbi:hide_in\n",
    "# Intercative plot to exemplify probability Distributions\n",
    "def plot(n):\n",
    "    xi = x[0:n]\n",
    "    plt.hist(xi, bins=bins)\n",
    "    plt.xlim([0.5, 6.5])\n",
    "    plt.grid(True)\n",
    "    plt.title(\"Histogram of Samples\")\n",
    "    \n",
    "#Execute interaction\n",
    "widgets.interactive(plot, n=numSampSlider)"
   ]
  },
  {
   "cell_type": "code",
   "execution_count": null,
   "metadata": {},
   "outputs": [],
   "source": []
  },
  {
   "cell_type": "code",
   "execution_count": null,
   "metadata": {},
   "outputs": [],
   "source": []
  }
 ],
 "metadata": {
  "kernelspec": {
   "display_name": "Python 3",
   "language": "python",
   "name": "python3"
  },
  "language_info": {
   "codemirror_mode": {
    "name": "ipython",
    "version": 3
   },
   "file_extension": ".py",
   "mimetype": "text/x-python",
   "name": "python",
   "nbconvert_exporter": "python",
   "pygments_lexer": "ipython3",
   "version": "3.7.3"
  }
 },
 "nbformat": 4,
 "nbformat_minor": 4
}
