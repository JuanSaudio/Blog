{
 "cells": [
  {
   "cell_type": "code",
   "execution_count": 6,
   "metadata": {},
   "outputs": [],
   "source": [
    "# nbi:hide_in\n",
    "##########################\n",
    "# Created on Mar 2020\n",
    "# @author: juans\n",
    "##########################"
   ]
  },
  {
   "cell_type": "code",
   "execution_count": 7,
   "metadata": {},
   "outputs": [],
   "source": [
    "# nbi:hide_in\n",
    "# Requried libraries\n",
    "import numpy as np\n",
    "import matplotlib.pyplot as plt\n",
    "import ipywidgets as widgets\n",
    "%matplotlib inline"
   ]
  },
  {
   "cell_type": "code",
   "execution_count": 8,
   "metadata": {},
   "outputs": [],
   "source": [
    "# nbi:hide_in\n",
    "# Functions to create different types of quantizers\n",
    "def mrQuantizeUniform(aNum, nBits):\n",
    "    #Uniformly mid rise quantize signed fraction aNum with nBits\n",
    "    #Notes:The overload level of the quantizer should be 1.0\n",
    "        \n",
    "    if (np.abs(aNum) >= 1):\n",
    "        code = 2**(nBits-1)-1\n",
    "    else:\n",
    "        code = int(2**(nBits-1) * np.abs(aNum))\n",
    "        \n",
    "    if(aNum >= 0):\n",
    "       return int(code)\n",
    "    else:\n",
    "       return int(code + 2**(nBits-1))\n",
    "            \n",
    "def mrDequantizeUniform(aQuantizedNum, nBits):\n",
    "    #Uniformly mid rise dequantizes nBits-long number aQuantizedNum \n",
    "    #into a signed fraction\n",
    "    if (aQuantizedNum>>(nBits-1)):\n",
    "        sign = -1\n",
    "    else:\n",
    "        sign = 1\n",
    "            \n",
    "    if (sign == -1):\n",
    "        aNum = sign * float(np.abs(aQuantizedNum - 2**(nBits-1) + 0.5))/(2**(nBits-1))\n",
    "    else:\n",
    "        aNum = sign * float(np.abs(aQuantizedNum) + 0.5)/(2**(nBits-1))\n",
    "        \n",
    "    return aNum\n",
    "\n",
    "def mtQuantizeUniform(aNum,nBits):\n",
    "    #Uniformly quantize signed fraction aNum with nBits\n",
    "    #Notes:The overload level of the quantizer should be 1.0    \n",
    "    if(aNum >= 0):\n",
    "        s = 0\n",
    "    else:\n",
    "        s = 1\n",
    "        \n",
    "    if(np.abs(aNum) >= 1):\n",
    "        code = 2**(nBits-1)-1\n",
    "    else:\n",
    "        code = int(((2**(nBits)-1)*np.abs(aNum)+1)/2)\n",
    "        \n",
    "        \n",
    "    if(s == 0):\n",
    "       return int(code)\n",
    "    else:\n",
    "       return int(code + 2**(nBits-1))\n",
    "   \n",
    "def mtDequantizeUniform(aQuantizedNum,nBits):\n",
    "    #Uniformly dequantizes nBits-long number aQuantizedNum \n",
    "    #into a signed fraction\n",
    "    if (aQuantizedNum>>(nBits-1)):\n",
    "        sign = -1\n",
    "    else:\n",
    "        sign = 1\n",
    "    \n",
    "    if (sign == -1):\n",
    "        aNum =  sign*float(2*np.abs(aQuantizedNum - 2**(nBits-1)))/(2**nBits -1)    \n",
    "    else:\n",
    "        aNum =  sign*float(2*np.abs(aQuantizedNum))/(2**nBits -1) \n",
    "\n",
    "    return aNum"
   ]
  },
  {
   "cell_type": "code",
   "execution_count": 13,
   "metadata": {},
   "outputs": [],
   "source": [
    "# nbi:hide_in\n",
    "nBitsSlider = widgets.IntSlider(\n",
    "    value=3,\n",
    "    min=2,\n",
    "    max=8,\n",
    "    step=1,\n",
    "    description='nBits',\n",
    "    continuous_update=False,\n",
    "    readout_format='d',\n",
    ")\n",
    "\n",
    "qTypeDropdown = widgets.Dropdown(\n",
    "    options=['MidTread', 'MidRise'],\n",
    "    value='MidTread',\n",
    "    description='Type',\n",
    ")"
   ]
  },
  {
   "cell_type": "code",
   "execution_count": 14,
   "metadata": {},
   "outputs": [
    {
     "data": {
      "application/vnd.jupyter.widget-view+json": {
       "model_id": "1d57b773ab734268b833c34e5e568aa1",
       "version_major": 2,
       "version_minor": 0
      },
      "text/plain": [
       "interactive(children=(IntSlider(value=3, continuous_update=False, description='nBits', max=8, min=2), Dropdown…"
      ]
     },
     "metadata": {},
     "output_type": "display_data"
    }
   ],
   "source": [
    "# nbi:hide_in\n",
    "# Interactive plot generation to exemplify different quantizers\n",
    "def plot(nBits, qType):\n",
    "    \n",
    "    # Create a vector of amplitudes with at least 4 points per\n",
    "    # Quantization step\n",
    "    x = np.linspace(-1, 1, 2**nBits * 4)\n",
    "    # Array for Quantized codes\n",
    "    y = np.zeros_like(x, dtype=int)\n",
    "    # Array for Dequantized float values\n",
    "    z = np.zeros_like(x)\n",
    "    \n",
    "    # Select between MidTread and MidRise\n",
    "    # For each quantize and dequantize each value\n",
    "    # NOTE: because this is a non vectorized quantization algo\n",
    "    # it is no particularly fast. If used you SHOULD vectorize it\n",
    "    if qType == 'MidTread':\n",
    "        for i in np.arange(len(y)):\n",
    "            y[i] = mtQuantizeUniform(x[i], nBits)\n",
    "            z[i] = mtDequantizeUniform(y[i], nBits)\n",
    "    else:\n",
    "        for i in np.arange(len(y)):\n",
    "            y[i] = mrQuantizeUniform(x[i], nBits)\n",
    "            z[i] = mrDequantizeUniform(y[i], nBits)\n",
    "\n",
    "    plt.plot(x, z, '.')\n",
    "    plt.axis('equal')\n",
    "    plt.axis('square')\n",
    "    plt.xlim([-1, 1])\n",
    "    plt.ylim([-1, 1])\n",
    "    plt.xticks(plt.yticks()[0], rotation=90)\n",
    "    plt.grid(True)\n",
    "    plt.xlabel('Continuous Amplitude')\n",
    "    plt.ylabel('Quantized Amplitude')\n",
    "    plt.title('Uniform Quantizer')\n",
    "    plt.tight_layout()\n",
    "    plt.show();\n",
    "\n",
    "# Execute interaction\n",
    "widgets.interactive(plot, nBits=nBitsSlider, qType=qTypeDropdown)\n"
   ]
  }
 ],
 "metadata": {
  "kernelspec": {
   "display_name": "Python 3",
   "language": "python",
   "name": "python3"
  },
  "language_info": {
   "codemirror_mode": {
    "name": "ipython",
    "version": 3
   },
   "file_extension": ".py",
   "mimetype": "text/x-python",
   "name": "python",
   "nbconvert_exporter": "python",
   "pygments_lexer": "ipython3",
   "version": "3.7.3"
  }
 },
 "nbformat": 4,
 "nbformat_minor": 4
}
