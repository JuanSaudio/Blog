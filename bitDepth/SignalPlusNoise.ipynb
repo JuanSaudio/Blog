{
 "cells": [
  {
   "cell_type": "code",
   "execution_count": 1,
   "metadata": {},
   "outputs": [],
   "source": [
    "# nbi:hide_in\n",
    "##########################\n",
    "# Created on Mar 2020\n",
    "# @author: juans\n",
    "##########################"
   ]
  },
  {
   "cell_type": "code",
   "execution_count": 2,
   "metadata": {},
   "outputs": [],
   "source": [
    "# nbi:hide_in\n",
    "# Required libraries\n",
    "import numpy as np\n",
    "import matplotlib.pyplot as plt\n",
    "from ipywidgets import interactive\n",
    "%matplotlib inline"
   ]
  },
  {
   "cell_type": "code",
   "execution_count": 3,
   "metadata": {},
   "outputs": [],
   "source": [
    "# nbi:hide_in\n",
    "# Func to convert dB to mag\n",
    "def db2mag(x):\n",
    "    return 10.0**(x/20.0)\n",
    "\n",
    "# Graph function to allow interaction\n",
    "def plot(signalLevel, noiseLevel):\n",
    "\n",
    "    z = x * db2mag(signalLevel) + y * db2mag(noiseLevel)\n",
    "\n",
    "    plt.plot(n, z)\n",
    "    plt.grid(True)\n",
    "    plt.xlabel('Samples')\n",
    "    plt.ylabel('Amplitude')\n",
    "    curTitle = 'Signal + Noise - SNR: ' + str(signalLevel - noiseLevel)\n",
    "    plt.title(curTitle)\n",
    "    plt.autoscale(tight=True)"
   ]
  },
  {
   "cell_type": "code",
   "execution_count": 4,
   "metadata": {},
   "outputs": [
    {
     "data": {
      "application/vnd.jupyter.widget-view+json": {
       "model_id": "5bf8239d472949a18886b13b27a108dc",
       "version_major": 2,
       "version_minor": 0
      },
      "text/plain": [
       "interactive(children=(IntSlider(value=-30, description='signalLevel', max=0, min=-60), IntSlider(value=-30, de…"
      ]
     },
     "metadata": {},
     "output_type": "display_data"
    }
   ],
   "source": [
    "# nbi:hide_in\n",
    "N = 2**10\n",
    "n = np.arange(N)\n",
    "x = np.sin(2 * np.pi * n / N)\n",
    "y = np.random.normal(size=N)\n",
    "    \n",
    "interactive_plot = interactive(plot, signalLevel=(-60, 0), noiseLevel=(-60, 0))\n",
    "interactive_plot"
   ]
  },
  {
   "cell_type": "code",
   "execution_count": null,
   "metadata": {},
   "outputs": [],
   "source": []
  }
 ],
 "metadata": {
  "kernelspec": {
   "display_name": "Python 3",
   "language": "python",
   "name": "python3"
  },
  "language_info": {
   "codemirror_mode": {
    "name": "ipython",
    "version": 3
   },
   "file_extension": ".py",
   "mimetype": "text/x-python",
   "name": "python",
   "nbconvert_exporter": "python",
   "pygments_lexer": "ipython3",
   "version": "3.7.3"
  }
 },
 "nbformat": 4,
 "nbformat_minor": 4
}
