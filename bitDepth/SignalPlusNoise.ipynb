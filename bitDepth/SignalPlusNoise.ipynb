{
 "cells": [
  {
   "cell_type": "code",
   "execution_count": 1,
   "metadata": {
    "scrolled": true
   },
   "outputs": [],
   "source": [
    "# nbi:hide_in\n",
    "##########################\n",
    "# Created on Mar 2020\n",
    "# @author: juans\n",
    "##########################"
   ]
  },
  {
   "cell_type": "code",
   "execution_count": 3,
   "metadata": {
    "scrolled": true
   },
   "outputs": [],
   "source": [
    "# nbi:hide_in\n",
    "# Required libraries\n",
    "import numpy as np\n",
    "import matplotlib.pyplot as plt\n",
    "import ipywidgets as widgets\n",
    "%matplotlib inline"
   ]
  },
  {
   "cell_type": "code",
   "execution_count": 4,
   "metadata": {
    "scrolled": true
   },
   "outputs": [],
   "source": [
    "# nbi:hide_in\n",
    "# Func to convert dB to mag\n",
    "def db2mag(x):\n",
    "    return 10.0**(x/20.0)"
   ]
  },
  {
   "cell_type": "code",
   "execution_count": 9,
   "metadata": {},
   "outputs": [],
   "source": [
    "# nbi:hide_in\n",
    "signalLevelSlider = widgets.IntSlider(\n",
    "    value=0,\n",
    "    min=-60,\n",
    "    max=0,\n",
    "    step=1,\n",
    "    description='SignalLvl',\n",
    "    continuous_update=False,\n",
    "    readout_format='d',\n",
    ")\n",
    "\n",
    "noiseLevelSlider = widgets.IntSlider(\n",
    "    value=-20,\n",
    "    min=-60,\n",
    "    max=0,\n",
    "    step=1,\n",
    "    description='NoiseLvl',\n",
    "    continuous_update=False,\n",
    "    readout_format='d',\n",
    ")"
   ]
  },
  {
   "cell_type": "code",
   "execution_count": 6,
   "metadata": {},
   "outputs": [],
   "source": [
    "# nbi:hide_in\n",
    "N = 2**10\n",
    "n = np.arange(N)\n",
    "x = np.sin(2 * np.pi * n / N)\n",
    "y = np.random.normal(size=N)"
   ]
  },
  {
   "cell_type": "code",
   "execution_count": 10,
   "metadata": {
    "scrolled": false
   },
   "outputs": [
    {
     "data": {
      "application/vnd.jupyter.widget-view+json": {
       "model_id": "7421375637a34ae0a679e6f7e1ab0676",
       "version_major": 2,
       "version_minor": 0
      },
      "text/plain": [
       "interactive(children=(IntSlider(value=0, continuous_update=False, description='SignalLvl', max=0, min=-60), In…"
      ]
     },
     "metadata": {},
     "output_type": "display_data"
    }
   ],
   "source": [
    "# nbi:hide_in\n",
    "def plot(signalLevel, noiseLevel):\n",
    "    z = x * db2mag(signalLevel) + y * db2mag(noiseLevel)\n",
    "    plt.plot(n, z)\n",
    "    plt.grid(True)\n",
    "    plt.xlabel('Samples')\n",
    "    plt.ylabel('Amplitude')\n",
    "    curTitle = 'Signal + Noise - SNR: ' + str(signalLevel - noiseLevel)\n",
    "    plt.title(curTitle)\n",
    "    plt.autoscale(tight=True)\n",
    "    \n",
    "widgets.interactive(plot, signalLevel=signalLevelSlider, noiseLevel=noiseLevelSlider)"
   ]
  }
 ],
 "metadata": {
  "kernelspec": {
   "display_name": "Python 3",
   "language": "python",
   "name": "python3"
  },
  "language_info": {
   "codemirror_mode": {
    "name": "ipython",
    "version": 3
   },
   "file_extension": ".py",
   "mimetype": "text/x-python",
   "name": "python",
   "nbconvert_exporter": "python",
   "pygments_lexer": "ipython3",
   "version": "3.7.3"
  }
 },
 "nbformat": 4,
 "nbformat_minor": 4
}
