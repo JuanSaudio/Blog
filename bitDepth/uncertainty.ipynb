{
 "cells": [
  {
   "cell_type": "code",
   "execution_count": 2,
   "metadata": {},
   "outputs": [],
   "source": [
    "# nbi:hide_in\n",
    "##########################\n",
    "# Created on Mar 2020\n",
    "# @author: juans\n",
    "##########################"
   ]
  },
  {
   "cell_type": "code",
   "execution_count": 3,
   "metadata": {},
   "outputs": [],
   "source": [
    "# nbi:hide_in\n",
    "# Required libraries\n",
    "import numpy as np\n",
    "import matplotlib.pyplot as plt\n",
    "from ipywidgets import interactive\n",
    "%matplotlib inline"
   ]
  },
  {
   "cell_type": "code",
   "execution_count": 4,
   "metadata": {},
   "outputs": [],
   "source": [
    "# nbi:hide_in\n",
    "def mtQuantizeUniform(aNum,nBits):\n",
    "    #Uniformly quantize signed fraction aNum with nBits\n",
    "    #Notes:The overload level of the quantizer should be 1.0    \n",
    "    if(aNum >= 0):\n",
    "        s = 0\n",
    "    else:\n",
    "        s = 1\n",
    "        \n",
    "    if(np.abs(aNum) >= 1):\n",
    "        code = 2**(nBits-1)-1\n",
    "    else:\n",
    "        code = int(((2**(nBits)-1)*np.abs(aNum)+1)/2)\n",
    "        \n",
    "        \n",
    "    if(s == 0):\n",
    "       return int(code)\n",
    "    else:\n",
    "       return int(code + 2**(nBits-1))\n",
    "   \n",
    "def mtDequantizeUniform(aQuantizedNum,nBits):\n",
    "    #Uniformly dequantizes nBits-long number aQuantizedNum \n",
    "    #into a signed fraction\n",
    "    if (aQuantizedNum>>(nBits-1)):\n",
    "        sign = -1\n",
    "    else:\n",
    "        sign = 1\n",
    "    \n",
    "    if (sign == -1):\n",
    "        aNum =  sign*float(2*np.abs(aQuantizedNum - 2**(nBits-1)))/(2**nBits -1)    \n",
    "    else:\n",
    "        aNum =  sign*float(2*np.abs(aQuantizedNum))/(2**nBits -1) \n",
    "\n",
    "    return aNum"
   ]
  },
  {
   "cell_type": "code",
   "execution_count": 8,
   "metadata": {},
   "outputs": [
    {
     "data": {
      "application/vnd.jupyter.widget-view+json": {
       "model_id": "12d6cfe15cd840a8870cdda8b5934ceb",
       "version_major": 2,
       "version_minor": 0
      },
      "text/plain": [
       "interactive(children=(IntSlider(value=5, description='nBits', max=8, min=2), IntSlider(value=41, description='…"
      ]
     },
     "metadata": {},
     "output_type": "display_data"
    }
   ],
   "source": [
    "# nbi:hide_in\n",
    "x = 0.844543\n",
    "\n",
    "def plot(nBits, zoom):\n",
    "    qStep = 2**(-nBits)\n",
    "\n",
    "    xQ = mtQuantizeUniform(x, nBits)\n",
    "    y = mtDequantizeUniform(xQ, nBits)\n",
    "    yAv = np.zeros(2**nBits - 1)\n",
    "    for i in np.arange(len(yAv)):\n",
    "        if i == xQ:\n",
    "            continue\n",
    "        yAv[i] = mtDequantizeUniform(i, nBits)\n",
    "        \n",
    "    zm = zoom\n",
    "    eb1 = plt.errorbar(0.05, y, yerr=qStep, capsize = 5, color=np.ones(3)*0.5, label='Uncertainty Range')\n",
    "    eb1[-1][0].set_linestyle(':')\n",
    "    eb2 = plt.errorbar(-0.05, (y+x)/2, yerr=np.abs(y-x)/2, capsize = 5, color='r', label='Error')\n",
    "    plt.plot(np.zeros_like(yAv), yAv, 'xb', label='Available Steps')\n",
    "    plt.plot(0, x, 'kx', label='Analog Value')\n",
    "    plt.plot(0, y, 'xc', label='Quantized Value')\n",
    "    plt.legend()\n",
    "    plt.ylabel('Amlpliutde')\n",
    "    plt.xlabel(None)\n",
    "    plt.xticks([0], [\"Some Sample\"])\n",
    "    plt.xlim([-1, 1])\n",
    "    plt.ylim(np.array([-1, 1]) / zm + x)\n",
    "    plt.grid(True)\n",
    "\n",
    "interactive_plot = interactive(plot, nBits=(2, 8, 1), zoom=(1, 100, 10), qType=['MidTread', 'MidRise'])\n",
    "interactive_plot"
   ]
  }
 ],
 "metadata": {
  "kernelspec": {
   "display_name": "Python 3",
   "language": "python",
   "name": "python3"
  },
  "language_info": {
   "codemirror_mode": {
    "name": "ipython",
    "version": 3
   },
   "file_extension": ".py",
   "mimetype": "text/x-python",
   "name": "python",
   "nbconvert_exporter": "python",
   "pygments_lexer": "ipython3",
   "version": "3.7.3"
  }
 },
 "nbformat": 4,
 "nbformat_minor": 4
}
