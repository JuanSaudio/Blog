{
 "cells": [
  {
   "cell_type": "code",
   "execution_count": 1,
   "metadata": {},
   "outputs": [],
   "source": [
    "# nbi:hide_in\n",
    "##########################\n",
    "# Created on Oct 2020\n",
    "# @author: juans\n",
    "##########################"
   ]
  },
  {
   "cell_type": "code",
   "execution_count": 2,
   "metadata": {},
   "outputs": [],
   "source": [
    "# nbi:hide_in\n",
    "import numpy as np\n",
    "import matplotlib.pyplot as plt\n",
    "import ipywidgets as widgets\n",
    "%matplotlib inline"
   ]
  },
  {
   "cell_type": "code",
   "execution_count": 3,
   "metadata": {},
   "outputs": [],
   "source": [
    "# nbi:hide_in\n",
    "def mag2db(x):\n",
    "    y = 20 * np.log10( np.abs( x + np.finfo(float).eps ) )\n",
    "    return y\n",
    "    \n",
    "def db2mag(x):\n",
    "    y = 10.0**(x / 20)\n",
    "    return y "
   ]
  },
  {
   "cell_type": "code",
   "execution_count": 4,
   "metadata": {},
   "outputs": [],
   "source": [
    "# nbi:hide_in\n",
    "class LevelEstimator:\n",
    "    def __init__(self, tauAttack, tauRelease, fs):\n",
    "        self.b0Att = 1 - np.exp(-1 / (tauAttack * fs))\n",
    "        self.b0Rel = 1 - np.exp(-1 / (tauRelease * fs))\n",
    "        self.state = 0\n",
    "    \n",
    "    def process(self, x):\n",
    "        if np.abs(x) > self.state:\n",
    "            self.state += self.b0Att * (np.abs(x) - self.state)\n",
    "        else:\n",
    "            self.state += self.b0Rel * (np.abs(x) - self.state)\n",
    "        \n",
    "        y = self.state\n",
    "        \n",
    "        return y\n",
    "    \n",
    "    def getState(self):\n",
    "        return self.state\n",
    "    \n",
    "    def setState(self, newState):\n",
    "        self.state = newState"
   ]
  },
  {
   "cell_type": "code",
   "execution_count": 5,
   "metadata": {},
   "outputs": [],
   "source": [
    "# nbi:hide_in\n",
    "class Compressor:\n",
    "    def __init__(self, tauAttack, tauRelease, threshold, ratio, fs):\n",
    "        self.estimator = LevelEstimator(tauAttack, tauRelease, fs)\n",
    "        self.th = threshold\n",
    "        self.ratio = ratio\n",
    "        self.level = self.estimator.getState()\n",
    "        self.gain = self.computeGain(self.level)\n",
    "        \n",
    "    def computeGain(self, level):\n",
    "        leveldB = mag2db(level)\n",
    "        gainIndB = np.max((leveldB - self.th, 0.0)) * (1.0 / self.ratio - 1.0)\n",
    "        gain = db2mag(gainIndB)\n",
    "        return gain\n",
    "    \n",
    "    def process(self, x):\n",
    "        self.level = self.estimator.process(x)\n",
    "        self.gain = self.computeGain(self.level)\n",
    "        y = x * self.gain\n",
    "        return y\n",
    "    \n",
    "    def getLevel(self):\n",
    "        return self.estimator.getState()\n",
    "    \n",
    "    def setLevel(self, newState):\n",
    "        self.estimator.setState(newState)\n",
    "        self.level = self.estimator.getState()\n",
    "        self.gain = self.computeGain(self.level)\n",
    "        \n",
    "    def getGain(self):\n",
    "        return self.gain\n",
    "        \n",
    "    def clear(self):\n",
    "        self.setLevel(0)\n",
    "        "
   ]
  },
  {
   "cell_type": "code",
   "execution_count": 6,
   "metadata": {},
   "outputs": [],
   "source": [
    "# nbi:hide_in\n",
    "gainBeforeSlider = widgets.IntSlider(\n",
    "    value=-20,\n",
    "    min=-20,\n",
    "    max=0,\n",
    "    step=1,\n",
    "    description='level Before',\n",
    "    readout_format='d',\n",
    "    continuous_update=False\n",
    ")\n",
    "\n",
    "gainDuringSlider = widgets.IntSlider(\n",
    "    value=0,\n",
    "    min=-20,\n",
    "    max=6,\n",
    "    step=1,\n",
    "    description='level During',\n",
    "    readout_format='d',\n",
    "    continuous_update=False\n",
    ")\n",
    "\n",
    "gainAfterSlider = widgets.IntSlider(\n",
    "    value=-20,\n",
    "    min=-20,\n",
    "    max=0,\n",
    "    step=1,\n",
    "    description='level Before',\n",
    "    readout_format='d',\n",
    "    continuous_update=False\n",
    ")"
   ]
  },
  {
   "cell_type": "code",
   "execution_count": 9,
   "metadata": {},
   "outputs": [
    {
     "data": {
      "application/vnd.jupyter.widget-view+json": {
       "model_id": "89326d75ed614a3fa5a238b407cab72d",
       "version_major": 2,
       "version_minor": 0
      },
      "text/plain": [
       "interactive(children=(IntSlider(value=-8, continuous_update=False, description='level Before', max=0, min=-20)…"
      ]
     },
     "metadata": {},
     "output_type": "display_data"
    }
   ],
   "source": [
    "# nbi:hide_in\n",
    "fs = 10000\n",
    "tauAtt = 100./1000\n",
    "tauRel = 100./1000\n",
    "threshold = -10.0\n",
    "ratio = 2.\n",
    "\n",
    "dur = 2\n",
    "t = np.linspace(0, dur, dur * fs, endpoint=False)\n",
    "comp = Compressor(tauAtt, tauRel, threshold, ratio, fs)   \n",
    "\n",
    "def plot(gainBefore, gainDuring, gainAfter):\n",
    "    \n",
    "    x = np.random.uniform(low=-1.0, high=1.0, size=np.size(t))\n",
    "    e = db2mag(gainDuring) * np.ones_like(x)\n",
    "    e[t < 0.5] = db2mag(gainBefore)\n",
    "    e[t > 1] = db2mag(gainAfter)\n",
    "    x *= e\n",
    "    \n",
    "    y = np.zeros_like(x)\n",
    "    l = np.zeros_like(x)\n",
    "    g = np.zeros_like(x)\n",
    "    \n",
    "    comp.clear()\n",
    "    for i in np.arange(np.size(x)):\n",
    "        y[i] = comp.process(x[i])\n",
    "        l[i] = comp.getLevel()\n",
    "        g[i] = comp.getGain()\n",
    "        \n",
    "    plt.figure(1, figsize=(12, 12))\n",
    "    plt.subplot(411)\n",
    "    plt.plot(t, x)\n",
    "    plt.xlim(t[[0,-1]])\n",
    "    plt.ylim([-1, 1])\n",
    "    plt.grid(True)\n",
    "    plt.title(\"Input Signal\")\n",
    "    \n",
    "    plt.subplot(412)\n",
    "    plt.plot(t, l)\n",
    "    plt.hlines(db2mag(threshold), t[0], t[-1])\n",
    "    plt.xlim(t[[0,-1]])\n",
    "    plt.ylim([0, 1])\n",
    "    plt.grid(True)\n",
    "    plt.title(\"Estimated Level\")\n",
    "    \n",
    "    plt.subplot(413)\n",
    "    plt.plot(t, g)\n",
    "    plt.xlim(t[[0,-1]])\n",
    "    plt.ylim([0.5, 1.2])\n",
    "    plt.grid(True)\n",
    "    plt.title(\"Gain Function\")\n",
    "    \n",
    "    plt.subplot(414)\n",
    "    plt.plot(t, y)\n",
    "    plt.xlim(t[[0,-1]])\n",
    "    plt.ylim([-1, 1])\n",
    "    plt.grid(True)\n",
    "    plt.title(\"Output Signal\")\n",
    "    plt.tight_layout()\n",
    "    \n",
    "widgets.interactive(plot, gainBefore=gainBeforeSlider, gainDuring=gainDuringSlider, gainAfter=gainAfterSlider)"
   ]
  },
  {
   "cell_type": "code",
   "execution_count": null,
   "metadata": {},
   "outputs": [],
   "source": [
    "\n"
   ]
  }
 ],
 "metadata": {
  "kernelspec": {
   "display_name": "Python 3",
   "language": "python",
   "name": "python3"
  },
  "language_info": {
   "codemirror_mode": {
    "name": "ipython",
    "version": 3
   },
   "file_extension": ".py",
   "mimetype": "text/x-python",
   "name": "python",
   "nbconvert_exporter": "python",
   "pygments_lexer": "ipython3",
   "version": "3.8.3"
  }
 },
 "nbformat": 4,
 "nbformat_minor": 4
}
