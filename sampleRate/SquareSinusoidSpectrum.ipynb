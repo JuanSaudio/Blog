{
 "cells": [
  {
   "cell_type": "code",
   "execution_count": 1,
   "metadata": {},
   "outputs": [],
   "source": [
    "# nbi:hide_in\n",
    "##########################\n",
    "# Created on Mar 2020\n",
    "# @author: juans\n",
    "##########################"
   ]
  },
  {
   "cell_type": "code",
   "execution_count": 2,
   "metadata": {},
   "outputs": [],
   "source": [
    "# nbi:hide_in\n",
    "import numpy as np\n",
    "import matplotlib.pyplot as plt\n",
    "import ipywidgets as widgets\n",
    "import scipy.signal as sg\n",
    "%matplotlib inline"
   ]
  },
  {
   "cell_type": "code",
   "execution_count": 3,
   "metadata": {},
   "outputs": [],
   "source": [
    "# nbi:hide_in\n",
    "originalCheckbox = widgets.Checkbox(\n",
    "    value=True,\n",
    "    description='Original Signal',\n",
    ")\n",
    "\n",
    "processedCheckbox = widgets.Checkbox(\n",
    "    value=False,\n",
    "    description='Squared Signal',\n",
    ")"
   ]
  },
  {
   "cell_type": "code",
   "execution_count": 4,
   "metadata": {},
   "outputs": [
    {
     "data": {
      "application/vnd.jupyter.widget-view+json": {
       "model_id": "0b17d1cbde3b4d5cbc7e55228e06c223",
       "version_major": 2,
       "version_minor": 0
      },
      "text/plain": [
       "interactive(children=(Checkbox(value=True, description='Original Signal'), Checkbox(value=False, description='…"
      ]
     },
     "metadata": {},
     "output_type": "display_data"
    }
   ],
   "source": [
    "# nbi:hide_in\n",
    "fs = 40000\n",
    "dur = 1\n",
    "t = np.linspace(0, dur, dur * fs, endpoint=False)\n",
    "x = sg.chirp(t, 2e1, dur, 2e4)\n",
    "\n",
    "y = x**2\n",
    "\n",
    "fxx, txx, Sxx = sg.spectrogram(x, fs, scaling='spectrum', nfft=512)\n",
    "_, _, Syy = sg.spectrogram(y, fs, scaling='spectrum', nfft=512)\n",
    "Szz = Sxx + Syy;\n",
    "\n",
    "def plot(showOriginal, showProcessed):\n",
    "    plt.figure(1)\n",
    "    if showOriginal and showProcessed:\n",
    "        plt.pcolormesh(txx, fxx, np.abs(Szz), cmap='jet', shading='auto')\n",
    "    elif showOriginal:\n",
    "        plt.pcolormesh(txx, fxx, np.abs(Sxx), cmap='jet', shading='auto')\n",
    "    elif showProcessed:\n",
    "        plt.pcolormesh(txx, fxx, np.abs(Syy), cmap='jet', shading='auto')\n",
    "    else:\n",
    "        plt.pcolormesh(txx, fxx, np.zeros_like(Sxx), cmap='jet', shading='auto')\n",
    "    plt.colorbar()\n",
    "    plt.clim([0, 0.5])\n",
    "        \n",
    "widgets.interactive(plot, showOriginal=originalCheckbox, showProcessed=processedCheckbox)\n"
   ]
  }
 ],
 "metadata": {
  "kernelspec": {
   "display_name": "Python 3",
   "language": "python",
   "name": "python3"
  },
  "language_info": {
   "codemirror_mode": {
    "name": "ipython",
    "version": 3
   },
   "file_extension": ".py",
   "mimetype": "text/x-python",
   "name": "python",
   "nbconvert_exporter": "python",
   "pygments_lexer": "ipython3",
   "version": "3.8.10"
  }
 },
 "nbformat": 4,
 "nbformat_minor": 4
}
