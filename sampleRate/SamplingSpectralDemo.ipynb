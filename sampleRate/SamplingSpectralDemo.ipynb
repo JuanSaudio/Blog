{
 "cells": [
  {
   "cell_type": "code",
   "execution_count": null,
   "metadata": {},
   "outputs": [],
   "source": [
    "# nbi:hide_in\n",
    "##########################\n",
    "# Created on Mar 2020\n",
    "# @author: juans\n",
    "##########################"
   ]
  },
  {
   "cell_type": "code",
   "execution_count": 1,
   "metadata": {},
   "outputs": [],
   "source": [
    "# nbi:hide_in\n",
    "import numpy as np\n",
    "import matplotlib.pyplot as plt\n",
    "import ipywidgets as widgets\n",
    "%matplotlib inline"
   ]
  },
  {
   "cell_type": "code",
   "execution_count": 2,
   "metadata": {},
   "outputs": [],
   "source": [
    "# nbi:hide_in\n",
    "tSlider = widgets.IntSlider(\n",
    "    value=5,\n",
    "    min=2,\n",
    "    max=10,\n",
    "    step=1,\n",
    "    description='Sampling Period',\n",
    "#     continuous_update=False\n",
    ")\n",
    "\n",
    "xOffsetSlider = widgets.FloatSlider(\n",
    "    value=0,\n",
    "    min=0,\n",
    "    max=1,\n",
    "    step=0.1,\n",
    "    description='xOffset',\n",
    "#     continuous_update=False,\n",
    "    readout_format='.1f',\n",
    ")\n",
    "\n",
    "xZoomSlider = widgets.IntSlider(\n",
    "    value=0,\n",
    "    min=0,\n",
    "    max=10,\n",
    "    step=1,\n",
    "    description='xZoom',\n",
    "#     continuous_update=False,\n",
    "    readout_format='d',\n",
    ")"
   ]
  },
  {
   "cell_type": "code",
   "execution_count": 3,
   "metadata": {},
   "outputs": [
    {
     "data": {
      "application/vnd.jupyter.widget-view+json": {
       "model_id": "5274eaaecf8c45448c1e9993e485e5a9",
       "version_major": 2,
       "version_minor": 0
      },
      "text/plain": [
       "interactive(children=(IntSlider(value=5, description='Sampling Period', max=10, min=2), FloatSlider(value=0.0,…"
      ]
     },
     "metadata": {},
     "output_type": "display_data"
    }
   ],
   "source": [
    "# nbi:hide_in\n",
    "N = 1\n",
    "frac = 2520 / N\n",
    "na = np.arange(0, N, 1/frac)\n",
    "numFreqs = 200\n",
    "f = np.arange(numFreqs) + 1\n",
    "g = (1 - f / (2 * numFreqs))\n",
    "phi = (np.pi * f)**1.08\n",
    "\n",
    "x = np.imag(np.inner(g, np.exp(1j * 2 * np.pi * np.outer(f, na).T/N + 1j * phi)))\n",
    "x = x + 0.5\n",
    "x = x / np.max(np.abs(x))\n",
    "\n",
    "def plot(T, xOffset, xZoom):\n",
    "    fs = 1/T\n",
    "    if xZoom == 0:\n",
    "        xZoom = 1\n",
    "\n",
    "    y = np.zeros_like(na)\n",
    "    y[::T] = 1\n",
    "    n = na[::T]\n",
    "    z = x * y\n",
    "\n",
    "    X = np.fft.fftshift(np.fft.fft(x)) / len(x)\n",
    "    Y = np.fft.fftshift(np.fft.fft(y)) / len(y)\n",
    "    Z = np.fft.fftshift(np.fft.fft(z)) / len(z)\n",
    "\n",
    "    wa = na - 0.5\n",
    "\n",
    "    plt.figure(1, figsize=(16, 12))\n",
    "    plt.subplot(321)\n",
    "    plt.plot(na, x, lw=1)\n",
    "    plt.grid(True)\n",
    "    plt.ylim([-1.1, 1.1])\n",
    "    plt.xlim( xOffset + np.array([0, 1]) / (2.0**xZoom))\n",
    "    plt.title(\"Waveform\")\n",
    "\n",
    "    plt.subplot(323)\n",
    "    ml, sl, bl = plt.stem(n, y[::T], use_line_collection=True)\n",
    "    plt.setp(sl, lw=1)\n",
    "    plt.setp(ml, ms=1)\n",
    "    plt.grid(True)\n",
    "    plt.ylim([-1.1, 1.1])\n",
    "    plt.xlim( xOffset + np.array([0, 1]) / (2.0**xZoom))\n",
    "\n",
    "    plt.subplot(325)\n",
    "    ml, sl, bl = plt.stem(n, z[::T], use_line_collection=True)\n",
    "    plt.setp(sl, lw=1)\n",
    "    plt.setp(ml, ms=1)\n",
    "    plt.grid(True)\n",
    "    plt.ylim([-1.1, 1.1])\n",
    "    plt.xlim( xOffset + np.array([0, 1]) / (2.0**xZoom))\n",
    "    plt.xlabel('Time (au)')\n",
    "\n",
    "    plt.subplot(322)\n",
    "    plt.plot(wa, np.abs(X))\n",
    "    plt.axvspan(-fs/2, fs/2, alpha=0.1, color='k')\n",
    "    plt.grid(True)\n",
    "    plt.autoscale(tight=True, axis='x')\n",
    "    plt.title(\"Spectrum\")\n",
    "\n",
    "    plt.subplot(324)\n",
    "    plt.plot(wa, np.abs(Y))\n",
    "    plt.axvspan(-fs/2, fs/2, alpha=0.1, color='k')\n",
    "    plt.grid(True)\n",
    "    plt.autoscale(tight=True, axis='x')\n",
    "\n",
    "    plt.subplot(326)\n",
    "    plt.plot(wa, np.abs(Z))\n",
    "    plt.axvspan(-fs/2, fs/2, alpha=0.1, color='k')\n",
    "    plt.grid(True)\n",
    "    plt.autoscale(tight=True, axis='x')\n",
    "    plt.xlabel('Frequency (au)')\n",
    "    plt.plot([-fs/2, -fs/2], [0, np.max(np.abs(Z))], 'r', label='NyquistLimit')\n",
    "    plt.plot([fs/2, fs/2], [0, np.max(np.abs(Z))], 'r')\n",
    "    plt.legend()\n",
    "\n",
    "widgets.interactive(plot, T=tSlider, xOffset=xOffsetSlider, xZoom=xZoomSlider)\n",
    "    "
   ]
  },
  {
   "cell_type": "code",
   "execution_count": 4,
   "metadata": {},
   "outputs": [
    {
     "ename": "NameError",
     "evalue": "name 'y' is not defined",
     "output_type": "error",
     "traceback": [
      "\u001b[0;31m---------------------------------------------------------------------------\u001b[0m",
      "\u001b[0;31mNameError\u001b[0m                                 Traceback (most recent call last)",
      "\u001b[0;32m<ipython-input-4-d9183e048de3>\u001b[0m in \u001b[0;36m<module>\u001b[0;34m()\u001b[0m\n\u001b[0;32m----> 1\u001b[0;31m \u001b[0mprint\u001b[0m\u001b[0;34m(\u001b[0m\u001b[0my\u001b[0m\u001b[0;34m)\u001b[0m\u001b[0;34m\u001b[0m\u001b[0;34m\u001b[0m\u001b[0m\n\u001b[0m",
      "\u001b[0;31mNameError\u001b[0m: name 'y' is not defined"
     ]
    }
   ],
   "source": [
    "print(y)"
   ]
  }
 ],
 "metadata": {
  "kernelspec": {
   "display_name": "Python 3",
   "language": "python",
   "name": "python3"
  },
  "language_info": {
   "codemirror_mode": {
    "name": "ipython",
    "version": 3
   },
   "file_extension": ".py",
   "mimetype": "text/x-python",
   "name": "python",
   "nbconvert_exporter": "python",
   "pygments_lexer": "ipython3",
   "version": "3.7.3"
  }
 },
 "nbformat": 4,
 "nbformat_minor": 4
}
