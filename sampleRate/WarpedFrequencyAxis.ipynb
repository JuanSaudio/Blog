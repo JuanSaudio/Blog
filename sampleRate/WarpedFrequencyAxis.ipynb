{
 "cells": [
  {
   "cell_type": "code",
   "execution_count": 1,
   "metadata": {},
   "outputs": [],
   "source": [
    "# nbi:hide_in\n",
    "import numpy as np\n",
    "import matplotlib.pyplot as plt\n",
    "import ipywidgets as widgets\n",
    "%matplotlib inline"
   ]
  },
  {
   "cell_type": "code",
   "execution_count": 24,
   "metadata": {},
   "outputs": [],
   "source": [
    "# nbi:hide_in\n",
    "fsSlider = widgets.FloatLogSlider(\n",
    "    value=4e4,\n",
    "    base=10,\n",
    "    min=np.log10(2e1), # max exponent of base\n",
    "    max=np.log10(4e4), # min exponent of base\n",
    "    step=0.01, # exponent step\n",
    "    description='fs',\n",
    "    readout_format='d',\n",
    "    continuous_update=False\n",
    ")\n",
    "\n",
    "fpSlider = widgets.FloatLogSlider(\n",
    "    value=1e3,\n",
    "    base=10,\n",
    "    min=np.log10(2e1), # max exponent of base\n",
    "    max=np.log10(2e4), # min exponent of base\n",
    "    step=0.01, # exponent step\n",
    "    description='Matched fc',\n",
    "    readout_format='d',\n",
    "    continuous_update=False\n",
    ")"
   ]
  },
  {
   "cell_type": "code",
   "execution_count": 27,
   "metadata": {},
   "outputs": [
    {
     "data": {
      "application/vnd.jupyter.widget-view+json": {
       "model_id": "9aac825142444b87b7f3be79b981bc3d",
       "version_major": 2,
       "version_minor": 0
      },
      "text/plain": [
       "interactive(children=(FloatLogSlider(value=40000.0, continuous_update=False, description='fs', max=4.602059991…"
      ]
     },
     "metadata": {},
     "output_type": "display_data"
    }
   ],
   "source": [
    "# nbi:hide_in\n",
    "fab = np.logspace(-2, 8, 160)\n",
    "a1 = np.ones(len(fab) + 1)\n",
    "a2 = -np.ones(len(fab) + 1)\n",
    "err = 0.5 * np.ones(len(fab) + 1)\n",
    "err[-1] *= 2\n",
    "fs = 40000\n",
    "def plot(fs, fp):\n",
    "    fp = np.array([fp])\n",
    "    c = 2 * np.pi * fp / np.tan(2.0 * np.pi * fp / ( 2.0 * fs ))\n",
    "    fa = np.concatenate([fab, fp])\n",
    "    fd = 2 * fs * np.arctan( 2 * np.pi * fa / c ) / (2.0 * np.pi)\n",
    "    \n",
    "    plt.figure(1, figsize=[12, 3])\n",
    "    plt.errorbar(fa, a1, yerr=err, label='analog')\n",
    "    plt.errorbar(fd, a2, yerr=err, label='digital')\n",
    "    plt.legend()\n",
    "    plt.xscale('log')\n",
    "    plt.grid(True)\n",
    "    plt.yticks([])\n",
    "    plt.xlim([2e1, 2e4])\n",
    "    plt.ylim([-2, 3])\n",
    "    plt.title(\"Warped Frequency Axis Transformation\")\n",
    "    plt.xlabel(\"Frequency\")\n",
    "    \n",
    "widgets.interactive(plot, fs=fsSlider, fp=fpSlider)\n",
    "\n"
   ]
  }
 ],
 "metadata": {
  "kernelspec": {
   "display_name": "Python 3",
   "language": "python",
   "name": "python3"
  },
  "language_info": {
   "codemirror_mode": {
    "name": "ipython",
    "version": 3
   },
   "file_extension": ".py",
   "mimetype": "text/x-python",
   "name": "python",
   "nbconvert_exporter": "python",
   "pygments_lexer": "ipython3",
   "version": "3.7.3"
  }
 },
 "nbformat": 4,
 "nbformat_minor": 4
}
