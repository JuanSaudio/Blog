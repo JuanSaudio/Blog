{
 "cells": [
  {
   "cell_type": "code",
   "execution_count": null,
   "metadata": {},
   "outputs": [],
   "source": [
    "# nbi:hide_in\n",
    "##########################\n",
    "# Created on Mar 2020\n",
    "# @author: juans\n",
    "##########################"
   ]
  },
  {
   "cell_type": "code",
   "execution_count": 3,
   "metadata": {},
   "outputs": [],
   "source": [
    "# nbi:hide_in\n",
    "import numpy as np\n",
    "import matplotlib.pyplot as plt\n",
    "import ipywidgets as widgets\n",
    "%matplotlib inline"
   ]
  },
  {
   "cell_type": "code",
   "execution_count": null,
   "metadata": {},
   "outputs": [],
   "source": [
    "# nbi:hide_in\n",
    "tSlider = widgets.IntSlider(\n",
    "    value=5,\n",
    "    min=2,\n",
    "    max=10,\n",
    "    step=1,\n",
    "    description='Sampling Period',\n",
    "#     continuous_update=False\n",
    ")\n",
    "\n",
    "xOffsetSlider = widgets.FloatSlider(\n",
    "    value=0,\n",
    "    min=0,\n",
    "    max=1,\n",
    "    step=0.1,\n",
    "    description='xOffset',\n",
    "#     continuous_update=False,\n",
    "    readout_format='.1f',\n",
    ")\n",
    "\n",
    "xZoomSlider = widgets.IntSlider(\n",
    "    value=0,\n",
    "    min=0,\n",
    "    max=10,\n",
    "    step=1,\n",
    "    description='xZoom',\n",
    "#     continuous_update=False,\n",
    "    readout_format='d',\n",
    ")"
   ]
  },
  {
   "cell_type": "code",
   "execution_count": null,
   "metadata": {},
   "outputs": [],
   "source": [
    "# nbi:hide_in\n",
    "N = 1\n",
    "frac = 2520 / N\n",
    "na = np.arange(0, N, 1/frac)\n",
    "numFreqs = 200\n",
    "f = np.arange(numFreqs) + 1\n",
    "g = (1 - f / (2 * numFreqs))\n",
    "phi = (np.pi * f)**1.08\n",
    "\n",
    "x = np.imag(np.inner(g, np.exp(1j * 2 * np.pi * np.outer(f, na).T/N + 1j * phi)))\n",
    "x = x + 0.5\n",
    "x = x / np.max(np.abs(x))\n",
    "wa = na - 0.5"
   ]
  },
  {
   "cell_type": "code",
   "execution_count": 2,
   "metadata": {},
   "outputs": [
    {
     "data": {
      "application/vnd.jupyter.widget-view+json": {
       "model_id": "c060d215d3bf4635a08859c643f9b2a0",
       "version_major": 2,
       "version_minor": 0
      },
      "text/plain": [
       "interactive(children=(IntSlider(value=5, description='Sampling Period', max=10, min=2), FloatSlider(value=0.0,…"
      ]
     },
     "metadata": {},
     "output_type": "display_data"
    }
   ],
   "source": [
    "# nbi:hide_in\n",
    "def plot(T, xOffset, xZoom):\n",
    "    fs = 1/T\n",
    "\n",
    "    y = np.zeros_like(na)\n",
    "    y[::T] = 1\n",
    "    n = na[::T]\n",
    "    z = x * y\n",
    "\n",
    "    Z = np.fft.fftshift(np.fft.fft(z)) / len(z)\n",
    "    S = np.zeros_like(wa)\n",
    "    S[np.abs(wa) <= fs/2] = 1\n",
    "    s = np.real(np.fft.fftshift(np.fft.ifft(np.fft.fftshift(S))))\n",
    "    scaleFact = 1 / np.max(np.abs(s))\n",
    "    s *= scaleFact\n",
    "    S *= scaleFact\n",
    "    R = S * Z\n",
    "    r = np.real(np.fft.ifft(np.fft.fftshift(R))) * len(z)\n",
    "\n",
    "    plt.figure(1, figsize=(16, 12))\n",
    "    plt.subplot(321)\n",
    "    ml, sl, bl = plt.stem(n, z[::T], use_line_collection=True)\n",
    "    plt.grid(True)\n",
    "    plt.ylim([-1.1, 1.1])\n",
    "    plt.xlim( xOffset + np.array([0, 1]) / (2.0**xZoom))\n",
    "    plt.title(\"Waveform\")\n",
    "\n",
    "    plt.subplot(323)\n",
    "    plt.plot(na, s, lw=1)\n",
    "    plt.grid(True)\n",
    "    plt.ylim([-1.1, 1.1])\n",
    "    plt.xlim( 0.5 + (np.array([0, 1]) - 0.5) / (2.0**xZoom))\n",
    "    \n",
    "    plt.subplot(325)\n",
    "    plt.plot(na, r)\n",
    "    plt.grid(True)\n",
    "    plt.ylim([-1.1, 1.1])\n",
    "    plt.xlim( xOffset + np.array([0, 1]) / (2.0**xZoom))\n",
    "    plt.xlabel('Time (au)')\n",
    "\n",
    "    plt.subplot(322)\n",
    "    plt.plot(wa, np.abs(Z))\n",
    "    plt.axvspan(-fs/2, fs/2, alpha=0.1, color='k')\n",
    "    plt.grid(True)\n",
    "    plt.autoscale(tight=True, axis='x')\n",
    "    plt.title(\"Spectrum\")\n",
    "    plt.plot([-fs/2, -fs/2], [0, np.max(np.abs(Z))], 'r', label='NyquistLimit')\n",
    "    plt.plot([fs/2, fs/2], [0, np.max(np.abs(Z))], 'r')\n",
    "    plt.legend()\n",
    "\n",
    "    plt.subplot(324)\n",
    "    plt.plot(wa, np.abs(S))\n",
    "    plt.axvspan(-fs/2, fs/2, alpha=0.1, color='k')\n",
    "    plt.grid(True)\n",
    "    plt.autoscale(tight=True, axis='x')\n",
    "\n",
    "    plt.subplot(326)\n",
    "    plt.plot(wa, np.abs(R))\n",
    "    plt.axvspan(-fs/2, fs/2, alpha=0.1, color='k')\n",
    "    plt.grid(True)\n",
    "    plt.autoscale(tight=True, axis='x')\n",
    "    plt.xlabel('Frequency (au)')\n",
    "    \n",
    "widgets.interactive(plot, T=tSlider, xOffset=xOffsetSlider, xZoom=xZoomSlider)"
   ]
  }
 ],
 "metadata": {
  "kernelspec": {
   "display_name": "Python 3",
   "language": "python",
   "name": "python3"
  },
  "language_info": {
   "codemirror_mode": {
    "name": "ipython",
    "version": 3
   },
   "file_extension": ".py",
   "mimetype": "text/x-python",
   "name": "python",
   "nbconvert_exporter": "python",
   "pygments_lexer": "ipython3",
   "version": "3.7.3"
  }
 },
 "nbformat": 4,
 "nbformat_minor": 4
}
