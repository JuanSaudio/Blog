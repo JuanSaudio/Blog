{
 "cells": [
  {
   "cell_type": "code",
   "execution_count": 1,
   "metadata": {},
   "outputs": [],
   "source": [
    "# nbi:hide_in\n",
    "##########################\n",
    "# Created on Mar 2020\n",
    "# @author: juans\n",
    "##########################"
   ]
  },
  {
   "cell_type": "code",
   "execution_count": 2,
   "metadata": {},
   "outputs": [],
   "source": [
    "# nbi:hide_in\n",
    "import numpy as np\n",
    "import matplotlib.pyplot as plt\n",
    "import ipywidgets as widgets\n",
    "%matplotlib inline"
   ]
  },
  {
   "cell_type": "code",
   "execution_count": 3,
   "metadata": {},
   "outputs": [],
   "source": [
    "# nbi:hide_in\n",
    "def db(x):\n",
    "    np.seterr(divide = 'ignore') \n",
    "    return 20.0 * np.log10(np.abs(x))"
   ]
  },
  {
   "cell_type": "code",
   "execution_count": 4,
   "metadata": {},
   "outputs": [],
   "source": [
    "# nbi:hide_in\n",
    "originalCheckbox = widgets.Checkbox(\n",
    "    value=True,\n",
    "    description='Original Signal',\n",
    ")\n",
    "\n",
    "processedCheckbox = widgets.Checkbox(\n",
    "    value=False,\n",
    "    description='Squared Signal',\n",
    ")"
   ]
  },
  {
   "cell_type": "code",
   "execution_count": 5,
   "metadata": {},
   "outputs": [],
   "source": [
    "# nbi:hide_in\n",
    "N = 2**7\n",
    "n = np.arange(N)\n",
    "f = 4\n",
    "x = np.cos(2 * np.pi * f * n / N)\n",
    "y = x**2\n",
    "\n",
    "X = np.fft.fftshift(np.fft.fft(x))/N\n",
    "Y = np.fft.fftshift(np.fft.fft(y))/N\n",
    "w = n - N/2"
   ]
  },
  {
   "cell_type": "code",
   "execution_count": 6,
   "metadata": {},
   "outputs": [
    {
     "data": {
      "application/vnd.jupyter.widget-view+json": {
       "model_id": "fc774d4e635b4998b2594259b3130241",
       "version_major": 2,
       "version_minor": 0
      },
      "text/plain": [
       "interactive(children=(Checkbox(value=True, description='Original Signal'), Checkbox(value=False, description='…"
      ]
     },
     "metadata": {},
     "output_type": "display_data"
    }
   ],
   "source": [
    "# nbi:hide_in\n",
    "def plot(showOriginal, showProcessed):\n",
    "    plt.figure(1, figsize=(12, 4))\n",
    "    plt.subplot(121)\n",
    "    if showOriginal:\n",
    "        plt.plot(n, x, 'b')\n",
    "    if showProcessed:\n",
    "        plt.plot(n, y, 'r')\n",
    "    plt.grid(True)\n",
    "    plt.xlim([0, 127])\n",
    "    plt.ylim([-1, 1])\n",
    "    plt.xlabel('Samples')\n",
    "    plt.ylabel('Amplitude')\n",
    "    plt.title('Waveform')\n",
    "\n",
    "    plt.subplot(122)\n",
    "    if showOriginal:\n",
    "        ml, sl, bl = plt.stem(w, abs(X), 'b', use_line_collection=True)\n",
    "        plt.setp(ml, color='b')\n",
    "    if showProcessed:\n",
    "        ml, sl, bl = plt.stem(w, abs(Y), 'r', use_line_collection=True)\n",
    "        plt.setp(ml, color='r')\n",
    "        \n",
    "    plt.ylim([0, 1])\n",
    "    plt.xlim([-20, 20])\n",
    "    plt.grid(True)\n",
    "    plt.xlabel('Frequency')\n",
    "    plt.title('Spectrum')\n",
    "    \n",
    "widgets.interactive(plot, showOriginal=originalCheckbox, showProcessed=processedCheckbox)"
   ]
  }
 ],
 "metadata": {
  "kernelspec": {
   "display_name": "Python 3",
   "language": "python",
   "name": "python3"
  },
  "language_info": {
   "codemirror_mode": {
    "name": "ipython",
    "version": 3
   },
   "file_extension": ".py",
   "mimetype": "text/x-python",
   "name": "python",
   "nbconvert_exporter": "python",
   "pygments_lexer": "ipython3",
   "version": "3.8.10"
  }
 },
 "nbformat": 4,
 "nbformat_minor": 4
}
