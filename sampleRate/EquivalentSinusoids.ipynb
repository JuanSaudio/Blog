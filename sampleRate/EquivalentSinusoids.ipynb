{
 "cells": [
  {
   "cell_type": "code",
   "execution_count": 1,
   "metadata": {},
   "outputs": [],
   "source": [
    "# nbi:hide_in\n",
    "##########################\n",
    "# Created on Mar 2020\n",
    "# @author: juans\n",
    "##########################"
   ]
  },
  {
   "cell_type": "code",
   "execution_count": 2,
   "metadata": {},
   "outputs": [],
   "source": [
    "# nbi:hide_in\n",
    "import numpy as np\n",
    "import matplotlib.pyplot as plt\n",
    "import ipywidgets as widgets\n",
    "%matplotlib inline"
   ]
  },
  {
   "cell_type": "code",
   "execution_count": 3,
   "metadata": {},
   "outputs": [],
   "source": [
    "# nbi:hide_in\n",
    "def sinusoid(fc, numCicles, fs):\n",
    "    dur = 1 / fc * numCicles\n",
    "    t = np.linspace(0, dur, int(dur * fs), endpoint=False)\n",
    "    x = np.sin(2 * np.pi * fc * t)\n",
    "    return t, x, dur\n",
    "    \n",
    "\n",
    "t1, x1, dur1 = sinusoid(441, 1, 44100)\n",
    "t2, x2, dur2 = sinusoid(480, 1, 48000)\n",
    "t1 *= 1000\n",
    "t2 *= 1000\n",
    "dur1 *= 1000\n",
    "dur2 *= 1000"
   ]
  },
  {
   "cell_type": "code",
   "execution_count": 4,
   "metadata": {},
   "outputs": [],
   "source": [
    "# nbi:hide_in\n",
    "xOffsetSlider = widgets.FloatSlider(\n",
    "    value=0,\n",
    "    min=0,\n",
    "    max=1,\n",
    "    step=0.1,\n",
    "    description='xOffset',\n",
    "#     continuous_update=False,\n",
    "    readout_format='.1f',\n",
    ")\n",
    "\n",
    "xZoomSlider = widgets.IntSlider(\n",
    "    value=0,\n",
    "    min=0,\n",
    "    max=10,\n",
    "    step=1,\n",
    "    description='xZoom',\n",
    "#     continuous_update=False,\n",
    "    readout_format='d',\n",
    ")"
   ]
  },
  {
   "cell_type": "code",
   "execution_count": 5,
   "metadata": {},
   "outputs": [
    {
     "data": {
      "image/png": "[encoded data removed]",
      "text/plain": [
       "<Figure size 864x288 with 2 Axes>"
      ]
     },
     "metadata": {
      "needs_background": "light"
     },
     "output_type": "display_data"
    }
   ],
   "source": [
    "# nbi:hide_in\n",
    "def plot(xOffset, xZoom):\n",
    "    plt.figure(1, figsize=(12, 4))\n",
    "    plt.subplot(121)\n",
    "    ml, sl, bl = plt.stem(t1, x1, use_line_collection=True)\n",
    "    plt.setp(sl, lw=1)\n",
    "    plt.setp(ml, ms=1)\n",
    "    plt.ylim([-1, 1])\n",
    "    plt.xlim( xOffset * dur1 + np.array([0, dur1]) / (2.0**xZoom))\n",
    "    plt.grid(True)\n",
    "    plt.xlabel('Time (ms)')\n",
    "    plt.ylabel('Amplitude')\n",
    "    plt.title('441Hz Sinusoid @ 44.1kHz')\n",
    "\n",
    "    plt.subplot(122)\n",
    "    ml, sl, bl = plt.stem(t2, x2, use_line_collection=True)\n",
    "    plt.setp(sl, lw=1)\n",
    "    plt.setp(ml, ms=1)\n",
    "    plt.ylim([-1, 1])\n",
    "    plt.xlim( xOffset * dur2 + np.array([0, dur2]) / (2.0**xZoom))\n",
    "    plt.grid(True)\n",
    "    plt.tight_layout()\n",
    "    plt.xlabel('Time (ms)')\n",
    "    plt.ylabel('Amplitude')\n",
    "    plt.title('480Hz Sinusoid @ 48kHz')\n",
    "    plt.tight_layout()\n",
    "    \n",
    "widgets.interactive(plot, xOffset=xOffsetSlider, xZoom=xZoomSlider)"
   ]
  }
 ],
 "metadata": {
  "kernelspec": {
   "display_name": "Python 3",
   "language": "python",
   "name": "python3"
  },
  "language_info": {
   "codemirror_mode": {
    "name": "ipython",
    "version": 3
   },
   "file_extension": ".py",
   "mimetype": "text/x-python",
   "name": "python",
   "nbconvert_exporter": "python",
   "pygments_lexer": "ipython3",
   "version": "3.8.3"
  }
 },
 "nbformat": 4,
 "nbformat_minor": 4
}
