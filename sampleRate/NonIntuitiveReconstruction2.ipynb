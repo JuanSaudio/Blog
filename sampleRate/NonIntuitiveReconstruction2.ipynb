{
 "cells": [
  {
   "cell_type": "code",
   "execution_count": null,
   "metadata": {},
   "outputs": [],
   "source": [
    "# nbi:hide_in\n",
    "##########################\n",
    "# Created on Mar 2020\n",
    "# @author: juans\n",
    "##########################"
   ]
  },
  {
   "cell_type": "code",
   "execution_count": 3,
   "metadata": {},
   "outputs": [],
   "source": [
    "# nbi:hide_in\n",
    "import numpy as np\n",
    "import matplotlib.pyplot as plt\n",
    "import ipywidgets as widgets\n",
    "%matplotlib inline"
   ]
  },
  {
   "cell_type": "code",
   "execution_count": 4,
   "metadata": {},
   "outputs": [
    {
     "data": {
      "application/vnd.jupyter.widget-view+json": {
       "model_id": "e50be6f957c0456abc1d86e50dc4dce1",
       "version_major": 2,
       "version_minor": 0
      },
      "text/plain": [
       "interactive(children=(Checkbox(value=True, description='Digital Signal'), Checkbox(value=False, description='S…"
      ]
     },
     "metadata": {},
     "output_type": "display_data"
    }
   ],
   "source": [
    "# nbi:hide_in\n",
    "def plot(digi, sinc, ana):\n",
    "    N = 20\n",
    "    n = np.arange(N+1)\n",
    "    Ta = 0.01\n",
    "    na = np.arange(0, N, Ta)\n",
    "\n",
    "    x = (-1.0)**np.arange(N+2)\n",
    "    x = np.delete(x, int(N/2) + 1)\n",
    "    x /= 2.0\n",
    "    y = np.zeros([len(na), N+1])\n",
    "\n",
    "    for i in np.arange(N+1):\n",
    "        y[:,i] = x[i] * np.sinc(na - n[i])\n",
    "        \n",
    "    if sinc:\n",
    "        plt.plot(na, y, color=0.9*np.ones(3))\n",
    "    if ana:\n",
    "        plt.plot(na, np.sum(y, axis=1), 'c')\n",
    "    if digi:\n",
    "        plt.stem(n, x, use_line_collection=True)\n",
    "        \n",
    "    plt.xlim([0, 20])\n",
    "    plt.ylim([-1.5, 1.5])\n",
    "    plt.grid(True)\n",
    "    plt.xlabel('samples')\n",
    "    plt.ylabel('Amplitude')\n",
    "    plt.title('Reconstruction of a signal')\n",
    "    \n",
    "digiCheckbox = widgets.Checkbox(\n",
    "    value=True,\n",
    "    description='Digital Signal',\n",
    ")\n",
    "    \n",
    "sincCheckbox = widgets.Checkbox(\n",
    "    value=False,\n",
    "    description='Sinc Interpolation',\n",
    ")\n",
    "\n",
    "anaCheckbox = widgets.Checkbox(\n",
    "    value=False,\n",
    "    description='Analog Signal',\n",
    ")\n",
    "\n",
    "widgets.interactive(plot, digi=digiCheckbox, sinc=sincCheckbox, ana=anaCheckbox)"
   ]
  }
 ],
 "metadata": {
  "kernelspec": {
   "display_name": "Python 3",
   "language": "python",
   "name": "python3"
  },
  "language_info": {
   "codemirror_mode": {
    "name": "ipython",
    "version": 3
   },
   "file_extension": ".py",
   "mimetype": "text/x-python",
   "name": "python",
   "nbconvert_exporter": "python",
   "pygments_lexer": "ipython3",
   "version": "3.7.3"
  }
 },
 "nbformat": 4,
 "nbformat_minor": 4
}
