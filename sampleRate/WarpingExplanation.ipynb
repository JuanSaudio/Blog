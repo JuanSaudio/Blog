{
 "cells": [
  {
   "cell_type": "code",
   "execution_count": 1,
   "metadata": {},
   "outputs": [],
   "source": [
    "# nbi:hide_in\n",
    "##########################\n",
    "# Created on Mar 2020\n",
    "# @author: juans\n",
    "##########################"
   ]
  },
  {
   "cell_type": "code",
   "execution_count": 2,
   "metadata": {},
   "outputs": [],
   "source": [
    "# nbi:hide_in\n",
    "# Requried libraries\n",
    "# %matplotlib notebook\n",
    "%matplotlib inline\n",
    "import numpy as np\n",
    "import scipy.signal as sg\n",
    "import matplotlib.pyplot as plt\n",
    "import ipywidgets as iPyWid"
   ]
  },
  {
   "cell_type": "code",
   "execution_count": 3,
   "metadata": {},
   "outputs": [],
   "source": [
    "# nbi:hide_in\n",
    "def mag2db(x):\n",
    "    return 20.0 * np.log10(x)\n",
    "\n",
    "def db2mag(x):\n",
    "    return 10.0**(x / 20)\n",
    "\n",
    "def db(x):\n",
    "    return mag2db(np.abs(x))\n",
    "\n",
    "def deg(x):\n",
    "    return np.rad2deg(np.angle(x))"
   ]
  },
  {
   "cell_type": "code",
   "execution_count": 4,
   "metadata": {},
   "outputs": [],
   "source": [
    "# nbi:hide_in\n",
    "def parametricFilter(freq, gainIndB, Q):\n",
    "    if gainIndB == 0:\n",
    "        return np.array([1]), np.array([1])\n",
    "    wo = 2 * np.pi * freq\n",
    "    g = db2mag(gainIndB)\n",
    "    \n",
    "    a2 = b2 = 1.0 / (wo**2)\n",
    "    a1 = b1 = 1.0 / (wo*Q)\n",
    "    a0 = b0 = 1.0\n",
    "    \n",
    "    if gainIndB > 0:\n",
    "        b1 *= g\n",
    "    else:\n",
    "        a1 /= g\n",
    "        \n",
    "    return np.array([b2, b1, b0]), np.array([a2, a1, a0])\n",
    "\n",
    "def warpedBilinearTransform(b, a, fs, fp):\n",
    "    z, p, k = sg.tf2zpk(b, a)\n",
    "    wo = 2 * np.pi * fp\n",
    "    c = wo / np.tan(wo / (2 * fs))\n",
    "    \n",
    "    zd = (1 + z/c)/(1 - z/c)\n",
    "    pd = (1 + p/c)/(1 - p/c)\n",
    "    zd = np.concatenate([zd, -np.ones(len(pd) - len(zd))])\n",
    "    kd = k * np.real(np.prod(c - z) / np.prod(c - p))\n",
    "    bd, ad = sg.zpk2tf(zd, pd, kd)\n",
    "    return bd, ad"
   ]
  },
  {
   "cell_type": "code",
   "execution_count": 7,
   "metadata": {},
   "outputs": [],
   "source": [
    "# nbi:hide_inyu\n",
    "fcSlider = iPyWid.FloatLogSlider(\n",
    "    value=1e3,\n",
    "    base=10,\n",
    "    min=np.log10(2e1), # max exponent of base\n",
    "    max=np.log10(2e4), # min exponent of base\n",
    "    step=0.01, # exponent step\n",
    "    description='FiltFreq',\n",
    "    readout_format='d',\n",
    "    continuous_update=False\n",
    ")\n",
    "\n",
    "fpSlider = iPyWid.FloatLogSlider(\n",
    "    value=1e3,\n",
    "    base=10,\n",
    "    min=np.log10(2e1), # max exponent of base\n",
    "    max=np.log10(2e4), # min exponent of base\n",
    "    step=0.01, # exponent step\n",
    "    description='WarpMatching',\n",
    "    readout_format='d',\n",
    "    continuous_update=False\n",
    ")"
   ]
  },
  {
   "cell_type": "code",
   "execution_count": 8,
   "metadata": {},
   "outputs": [
    {
     "data": {
      "application/vnd.jupyter.widget-view+json": {
       "model_id": "9f1083594a804bc092556942d2d011b2",
       "version_major": 2,
       "version_minor": 0
      },
      "text/plain": [
       "interactive(children=(FloatLogSlider(value=1000.0, continuous_update=False, description='FiltFreq', max=4.3010…"
      ]
     },
     "metadata": {},
     "output_type": "display_data"
    }
   ],
   "source": [
    "# nbi:hide_in\n",
    "N = 200\n",
    "fax = 2 * np.logspace(1, 5, N)\n",
    "\n",
    "def plot(fc, fp):\n",
    "    fs = 40000\n",
    "    gainIndB = 10\n",
    "    Q = 1\n",
    "\n",
    "    b, a = parametricFilter(fc, gainIndB, Q)\n",
    "    bd, ad = warpedBilinearTransform(b, a, fs, fp)\n",
    "\n",
    "    _, Ha = sg.freqs(b, a, 2 * np.pi * fax)\n",
    "    _, Hd = sg.freqz(bd, ad, fax, fs=fs)\n",
    "    \n",
    "    plt.figure(figsize=(12, 9))\n",
    "    plt.subplot(211)\n",
    "    plt.semilogx(fax, db(Ha), label=\"Analog\")\n",
    "    plt.semilogx(fax, db(Hd), label=\"Digital\")\n",
    "    plt.semilogx([2e4, 2e4], [-12, 12])\n",
    "    plt.grid(True)\n",
    "    plt.xlim([2e1, 2e4])\n",
    "    plt.ylim([-12, 12])\n",
    "    plt.yticks(np.arange(-12, 12.1, 3))\n",
    "    plt.ylabel('Amplitude (dB)')\n",
    "    plt.title('Transfer Function')\n",
    "    plt.legend()\n",
    "\n",
    "    plt.subplot(212)\n",
    "    plt.semilogx(fax, deg(Ha))\n",
    "    plt.semilogx(fax, deg(Hd))\n",
    "    plt.semilogx([2e4, 2e4], [-180, 180])\n",
    "    plt.grid(True)\n",
    "    plt.xlim([2e1, 2e4])\n",
    "    plt.ylim([-180, 180])\n",
    "    plt.yticks(np.arange(-180, 181, 60))\n",
    "    plt.xlabel('Frequency (Hz)')\n",
    "    plt.ylabel('Phase (o)')\n",
    "    plt.tight_layout() \n",
    "\n",
    "\n",
    "iPyWid.interactive( plot, \n",
    "                    fc=fcSlider,\n",
    "                    fp=fpSlider)"
   ]
  }
 ],
 "metadata": {
  "kernelspec": {
   "display_name": "Python 3",
   "language": "python",
   "name": "python3"
  },
  "language_info": {
   "codemirror_mode": {
    "name": "ipython",
    "version": 3
   },
   "file_extension": ".py",
   "mimetype": "text/x-python",
   "name": "python",
   "nbconvert_exporter": "python",
   "pygments_lexer": "ipython3",
   "version": "3.7.3"
  }
 },
 "nbformat": 4,
 "nbformat_minor": 4
}
